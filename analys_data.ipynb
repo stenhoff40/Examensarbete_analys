{
 "cells": [
  {
   "cell_type": "code",
   "execution_count": 1,
   "metadata": {},
   "outputs": [],
   "source": [
    "import pandas as pd\n",
    "import nltk as tm\n",
    "from nltk.corpus import stopwords\n",
    "import wordcloud\n",
    "import matplotlib as plt\n",
    "import seaborn as sns\n",
    "from sklearn.feature_extraction.text import CountVectorizer"
   ]
  },
  {
   "cell_type": "code",
   "execution_count": 2,
   "metadata": {},
   "outputs": [],
   "source": [
    "import matplotlib.pyplot as plt"
   ]
  },
  {
   "cell_type": "code",
   "execution_count": 3,
   "metadata": {},
   "outputs": [
    {
     "data": {
      "text/plain": [
       "'c:\\\\Users\\\\Stenh\\\\OneDrive - Uppsala universitet\\\\Termin 4\\\\Examensarbete_analys'"
      ]
     },
     "execution_count": 3,
     "metadata": {},
     "output_type": "execute_result"
    }
   ],
   "source": [
    "pwd"
   ]
  },
  {
   "cell_type": "markdown",
   "metadata": {},
   "source": [
    "<h1>Inläsning, transformering och kontroll av data</h1>"
   ]
  },
  {
   "cell_type": "code",
   "execution_count": null,
   "metadata": {},
   "outputs": [],
   "source": [
    "\n",
    "df = pd.read_csv(\"138svar.csv\", encoding=\"utf-8\", delimiter = \",\")"
   ]
  },
  {
   "cell_type": "code",
   "execution_count": null,
   "metadata": {},
   "outputs": [],
   "source": [
    "# df = df.drop(df.index[:3])\n",
    "# df = df.reset_index(drop=True)"
   ]
  },
  {
   "cell_type": "code",
   "execution_count": 6,
   "metadata": {},
   "outputs": [
    {
     "name": "stdout",
     "output_type": "stream",
     "text": [
      "<class 'pandas.core.frame.DataFrame'>\n",
      "RangeIndex: 100 entries, 0 to 99\n",
      "Data columns (total 42 columns):\n",
      " #   Column                                                                                                              Non-Null Count  Dtype  \n",
      "---  ------                                                                                                              --------------  -----  \n",
      " 0   Tidstämpel                                                                                                          100 non-null    object \n",
      " 1   Kön                                                                                                                 100 non-null    object \n",
      " 2   Vilken årskurs går du i?                                                                                            100 non-null    object \n",
      " 3   Vilket av följande beskriver bäst ditt program?                                                                     100 non-null    object \n",
      " 4   Hur många invånare har orten där du bor?                                                                            100 non-null    object \n",
      " 5   Jag känner till GDPR.                                                                                               100 non-null    float64\n",
      " 6   Jag litar på att hemsidor hanterar mina personuppgifter på ett ansvarsfullt sätt.                                   100 non-null    float64\n",
      " 7   Jag väljer \"Godkänn alla cookies\".                                                                                  100 non-null    float64\n",
      " 8   Jag väljer \"Tillåt alla\".                                                                                           100 non-null    float64\n",
      " 9   Jag väljer \"Acceptera alla cookies\".                                                                                100 non-null    float64\n",
      " 10  Jag väljer \"Acceptera alla cookies\". .1                                                                             100 non-null    float64\n",
      " 11  Jag väljer \"Tillåt alla\". .1                                                                                        100 non-null    float64\n",
      " 12  Mina val av cookies är olika beroende på vilken sida jag besöker.                                                   100 non-null    float64\n",
      " 13  Jag undviker vissa webbplatser på grund av hur de hanterar cookies.                                                 100 non-null    float64\n",
      " 14  Jag läser igenom informationen om cookies innan jag gör ett val.                                                    100 non-null    float64\n",
      " 15  Jag raderar cookies regelbundet i min webbläsare.                                                                   100 non-null    float64\n",
      " 16  Jag har någon gång ändrat inställningarna för cookies i min webbläsare.                                             100 non-null    float64\n",
      " 17  Jag använder inställningar eller program som blockerar spårning eller reklam.                                       100 non-null    float64\n",
      " 18  Jag har god kunskap om cookies.                                                                                     100 non-null    float64\n",
      " 19  Jag känner till vad cookies används till.                                                                           100 non-null    float64\n",
      " 20  Jag vet skillnaden mellan nödvändiga och icke-nödvändiga cookies.                                                   100 non-null    float64\n",
      " 21  Jag vet att det går att anpassa eller neka cookies när jag besöker en ny webbplats.                                 100 non-null    float64\n",
      " 22  Jag känner till att cookies används för grundläggande funktioner på en hemsida.                                     100 non-null    float64\n",
      " 23  Jag känner till att cookies används för öka användarupplevelsen på en hemsida.                                      100 non-null    float64\n",
      " 24  Jag känner till att cookies kan lagra personliga uppgifter som jag lämnat på en webbplats.                          100 non-null    float64\n",
      " 25  Jag vet att cookies kan användas för att samla in information om mitt beteende online.                              100 non-null    float64\n",
      " 26  Jag är medveten om att cookies kan användas för att bygga en profil av mig som internetanvändare.                   100 non-null    float64\n",
      " 27  Jag känner till att cookies kan fortsätta spåra mitt beteende när jag besöker andra hemsidor.                       100 non-null    float64\n",
      " 28  Jag vet att cookies kan påverka hur mycket reklam jag ser och vilken typ av reklam jag får.                         100 non-null    float64\n",
      " 29  Jag känner till att cookies som innehåller personlig information om mig och kan säljas vidare till andra företag.   100 non-null    float64\n",
      " 30  Jag bryr mig om att hemsidor hanterar mina personuppgifter på ett ansvarsfullt sätt.                                100 non-null    float64\n",
      " 31  Jag värnar om min personliga integritet online.                                                                     100 non-null    float64\n",
      " 32  Jag är omsorgsfull med vilka uppgifter jag lämnar till hemsidor.                                                    100 non-null    float64\n",
      " 33  Jag bryr mig om att företag samlar in information om mig som person.                                                100 non-null    float64\n",
      " 34  Jag bryr mig om att företag samlar in information om mitt beteende online.                                          100 non-null    float64\n",
      " 35  Jag känner oro över att information som samlas in via cookies kan användas på ett felaktigt sätt.                   100 non-null    float64\n",
      " 36  Jag känner mig obekväm med att webbplatser spårar mitt beteende med hjälp av cookies.                               100 non-null    float64\n",
      " 37  När jag besöker en hemsida tycker att det är viktigt att jag får välja vilken information om mig som lagras.        100 non-null    float64\n",
      " 38  Jag tycker att hemsidor bör förklara tydligt vad varje cookie används till.                                         100 non-null    float64\n",
      " 39  Jag tycker att det är fel att samla in personuppgifter utan att informera användaren.                               100 non-null    float64\n",
      " 40  Jag tycker att företag inskränker på människors privatliv när de spårar aktivitet via cookies.                      100 non-null    float64\n",
      " 41  Jag tycker att det är rimligt att betala med personlig data istället för pengar för att använda tjänster online.    100 non-null    float64\n",
      "dtypes: float64(37), object(5)\n",
      "memory usage: 32.9+ KB\n"
     ]
    }
   ],
   "source": [
    "df.info()"
   ]
  },
  {
   "cell_type": "code",
   "execution_count": 7,
   "metadata": {},
   "outputs": [],
   "source": [
    "df.drop(columns=\"Tidstämpel\", axis=1, inplace=True)"
   ]
  },
  {
   "cell_type": "code",
   "execution_count": 8,
   "metadata": {},
   "outputs": [],
   "source": [
    "kolumner_att_konvertera = df.columns[:4]\n",
    "\n",
    "# Konvertera datatypen för de valda kolumnerna till 'category'\n",
    "df[kolumner_att_konvertera] = df[kolumner_att_konvertera].astype('category')\n"
   ]
  },
  {
   "cell_type": "code",
   "execution_count": 9,
   "metadata": {},
   "outputs": [
    {
     "name": "stderr",
     "output_type": "stream",
     "text": [
      "C:\\Users\\Stenh\\AppData\\Local\\Temp\\ipykernel_12300\\2101176683.py:1: FutureWarning: The behavior of Series.replace (and DataFrame.replace) with CategoricalDtype is deprecated. In a future version, replace will only be used for cases that preserve the categories. To change the categories, use ser.cat.rename_categories instead.\n",
      "  df['Hur många invånare har orten där du bor?'] = df['Hur många invånare har orten där du bor?'].replace({\n"
     ]
    }
   ],
   "source": [
    "df['Hur många invånare har orten där du bor?'] = df['Hur många invånare har orten där du bor?'].replace({\n",
    "    \"0-10 000\": \"liten\",\n",
    "    \"10-50 000\": \"liten\",\n",
    "    \"50-100 000\": \"medel\",\n",
    "    \"100-200 000\": \"stor\",\n",
    "    \"200 000+\": \"stor\"\n",
    "})"
   ]
  },
  {
   "cell_type": "code",
   "execution_count": 10,
   "metadata": {},
   "outputs": [
    {
     "name": "stdout",
     "output_type": "stream",
     "text": [
      "<class 'pandas.core.frame.DataFrame'>\n",
      "RangeIndex: 100 entries, 0 to 99\n",
      "Data columns (total 41 columns):\n",
      " #   Column                                                                                                              Non-Null Count  Dtype   \n",
      "---  ------                                                                                                              --------------  -----   \n",
      " 0   Kön                                                                                                                 100 non-null    category\n",
      " 1   Vilken årskurs går du i?                                                                                            100 non-null    category\n",
      " 2   Vilket av följande beskriver bäst ditt program?                                                                     100 non-null    category\n",
      " 3   Hur många invånare har orten där du bor?                                                                            100 non-null    category\n",
      " 4   Jag känner till GDPR.                                                                                               100 non-null    float64 \n",
      " 5   Jag litar på att hemsidor hanterar mina personuppgifter på ett ansvarsfullt sätt.                                   100 non-null    float64 \n",
      " 6   Jag väljer \"Godkänn alla cookies\".                                                                                  100 non-null    float64 \n",
      " 7   Jag väljer \"Tillåt alla\".                                                                                           100 non-null    float64 \n",
      " 8   Jag väljer \"Acceptera alla cookies\".                                                                                100 non-null    float64 \n",
      " 9   Jag väljer \"Acceptera alla cookies\". .1                                                                             100 non-null    float64 \n",
      " 10  Jag väljer \"Tillåt alla\". .1                                                                                        100 non-null    float64 \n",
      " 11  Mina val av cookies är olika beroende på vilken sida jag besöker.                                                   100 non-null    float64 \n",
      " 12  Jag undviker vissa webbplatser på grund av hur de hanterar cookies.                                                 100 non-null    float64 \n",
      " 13  Jag läser igenom informationen om cookies innan jag gör ett val.                                                    100 non-null    float64 \n",
      " 14  Jag raderar cookies regelbundet i min webbläsare.                                                                   100 non-null    float64 \n",
      " 15  Jag har någon gång ändrat inställningarna för cookies i min webbläsare.                                             100 non-null    float64 \n",
      " 16  Jag använder inställningar eller program som blockerar spårning eller reklam.                                       100 non-null    float64 \n",
      " 17  Jag har god kunskap om cookies.                                                                                     100 non-null    float64 \n",
      " 18  Jag känner till vad cookies används till.                                                                           100 non-null    float64 \n",
      " 19  Jag vet skillnaden mellan nödvändiga och icke-nödvändiga cookies.                                                   100 non-null    float64 \n",
      " 20  Jag vet att det går att anpassa eller neka cookies när jag besöker en ny webbplats.                                 100 non-null    float64 \n",
      " 21  Jag känner till att cookies används för grundläggande funktioner på en hemsida.                                     100 non-null    float64 \n",
      " 22  Jag känner till att cookies används för öka användarupplevelsen på en hemsida.                                      100 non-null    float64 \n",
      " 23  Jag känner till att cookies kan lagra personliga uppgifter som jag lämnat på en webbplats.                          100 non-null    float64 \n",
      " 24  Jag vet att cookies kan användas för att samla in information om mitt beteende online.                              100 non-null    float64 \n",
      " 25  Jag är medveten om att cookies kan användas för att bygga en profil av mig som internetanvändare.                   100 non-null    float64 \n",
      " 26  Jag känner till att cookies kan fortsätta spåra mitt beteende när jag besöker andra hemsidor.                       100 non-null    float64 \n",
      " 27  Jag vet att cookies kan påverka hur mycket reklam jag ser och vilken typ av reklam jag får.                         100 non-null    float64 \n",
      " 28  Jag känner till att cookies som innehåller personlig information om mig och kan säljas vidare till andra företag.   100 non-null    float64 \n",
      " 29  Jag bryr mig om att hemsidor hanterar mina personuppgifter på ett ansvarsfullt sätt.                                100 non-null    float64 \n",
      " 30  Jag värnar om min personliga integritet online.                                                                     100 non-null    float64 \n",
      " 31  Jag är omsorgsfull med vilka uppgifter jag lämnar till hemsidor.                                                    100 non-null    float64 \n",
      " 32  Jag bryr mig om att företag samlar in information om mig som person.                                                100 non-null    float64 \n",
      " 33  Jag bryr mig om att företag samlar in information om mitt beteende online.                                          100 non-null    float64 \n",
      " 34  Jag känner oro över att information som samlas in via cookies kan användas på ett felaktigt sätt.                   100 non-null    float64 \n",
      " 35  Jag känner mig obekväm med att webbplatser spårar mitt beteende med hjälp av cookies.                               100 non-null    float64 \n",
      " 36  När jag besöker en hemsida tycker att det är viktigt att jag får välja vilken information om mig som lagras.        100 non-null    float64 \n",
      " 37  Jag tycker att hemsidor bör förklara tydligt vad varje cookie används till.                                         100 non-null    float64 \n",
      " 38  Jag tycker att det är fel att samla in personuppgifter utan att informera användaren.                               100 non-null    float64 \n",
      " 39  Jag tycker att företag inskränker på människors privatliv när de spårar aktivitet via cookies.                      100 non-null    float64 \n",
      " 40  Jag tycker att det är rimligt att betala med personlig data istället för pengar för att använda tjänster online.    100 non-null    float64 \n",
      "dtypes: category(4), float64(37)\n",
      "memory usage: 30.2 KB\n"
     ]
    }
   ],
   "source": [
    "df.info()"
   ]
  },
  {
   "cell_type": "code",
   "execution_count": 11,
   "metadata": {},
   "outputs": [],
   "source": [
    "kolumner_att_ändra = df.columns[[6, 7, 8, 9, 10]]\n",
    "\n",
    "df[kolumner_att_ändra] = df[kolumner_att_ändra].replace({\n",
    "    7: 1,\n",
    "    6: 2,\n",
    "    5: 3,\n",
    "    3: 5,\n",
    "    2: 6,\n",
    "    7: 1\n",
    "})"
   ]
  },
  {
   "cell_type": "code",
   "execution_count": 12,
   "metadata": {},
   "outputs": [
    {
     "name": "stdout",
     "output_type": "stream",
     "text": [
      "Index(['Jag väljer \"Godkänn alla cookies\".', 'Jag väljer \"Tillåt alla\". ',\n",
      "       'Jag väljer \"Acceptera alla cookies\". ',\n",
      "       'Jag väljer \"Acceptera alla cookies\". .1',\n",
      "       'Jag väljer \"Tillåt alla\". .1'],\n",
      "      dtype='object')\n"
     ]
    }
   ],
   "source": [
    "print(kolumner_att_ändra)"
   ]
  },
  {
   "cell_type": "markdown",
   "metadata": {},
   "source": [
    "<h1>Kategorisering</h1>"
   ]
  },
  {
   "cell_type": "code",
   "execution_count": 13,
   "metadata": {},
   "outputs": [],
   "source": [
    "df_demografi = df.iloc[:,:6]"
   ]
  },
  {
   "cell_type": "code",
   "execution_count": null,
   "metadata": {},
   "outputs": [],
   "source": [
    "# Välj kolumnerna med index 19 till 27 (slutet är exklusivt så vi tar upp till 28)\n",
    "utvalda_k = df.iloc[:, 17:29]\n",
    "utvalda_k1 = df.iloc[:, 17:23]\n",
    "utvalda_k2 = df.iloc[:, 23:29]\n",
    "utvalda_a = df.iloc[:, 29:]\n",
    "utvalda_a1 = df.iloc[:, 29:37]\n",
    "utvalda_a2 = df.iloc[:, 37:]\n",
    "utvalda_b = df.iloc[:, 6:17]\n",
    "utvalda_b1_dark = df.iloc[:,[6,7,9]]\n",
    "utvalda_b1_no_dark = df.iloc[:,[8,10]]\n",
    "utvalda_b2 = df.iloc[:, 11:14]\n",
    "utvalda_b3 = df.iloc[:, 14:17]\n",
    "\n",
    "\n",
    "# Platta ut alla värden till en lång array och räkna ut medelvärde\n",
    "medelvärde_k = utvalda_k.values.flatten().mean()\n",
    "medelvärde_k1 = utvalda_k1.values.flatten().mean()\n",
    "medelvärde_k2 = utvalda_k2.values.flatten().mean()\n",
    "medelvärde_a = utvalda_a.values.flatten().mean()\n",
    "medelvärde_a1 = utvalda_a1.values.flatten().mean()\n",
    "medelvärde_a2 = utvalda_a2.values.flatten().mean()\n",
    "medelvärde_b = utvalda_b.values.flatten().mean()\n",
    "medelvärde_b1_dark = utvalda_b1_dark.values.flatten().mean()\n",
    "medelvärde_b1_no_dark = utvalda_b1_no_dark.values.flatten().mean()\n",
    "medelvärde_b2 = utvalda_b2.values.flatten().mean()\n",
    "medelvärde_b3 = utvalda_b3.values.flatten().mean()\n",
    "\n",
    "# Skapa ny DataFrame med en kolumn \"K\" och medelvärdet som enda värde\n",
    "df_kategoriserad = pd.DataFrame({\n",
    "                      'K': [medelvärde_k],\n",
    "                      'K_grundläggande': [medelvärde_k1],\n",
    "                      'K_integritet': [medelvärde_k2],\n",
    "                      'A': [medelvärde_a],\n",
    "                      'A_egen_data': [medelvärde_a1],\n",
    "                      'A_gen_insamling': [medelvärde_a2],\n",
    "                      'B': [medelvärde_b],\n",
    "                      'B_bilder_dark': [medelvärde_b1_dark],\n",
    "                      'B_bilder_no_dark': [medelvärde_b1_no_dark],\n",
    "                      'B2_agerande': [medelvärde_b2],\n",
    "                      'B3_aktivt agerande': [medelvärde_b3]\n",
    "                      })"
   ]
  },
  {
   "cell_type": "code",
   "execution_count": 15,
   "metadata": {},
   "outputs": [
    {
     "data": {
      "text/html": [
       "<div>\n",
       "<style scoped>\n",
       "    .dataframe tbody tr th:only-of-type {\n",
       "        vertical-align: middle;\n",
       "    }\n",
       "\n",
       "    .dataframe tbody tr th {\n",
       "        vertical-align: top;\n",
       "    }\n",
       "\n",
       "    .dataframe thead th {\n",
       "        text-align: right;\n",
       "    }\n",
       "</style>\n",
       "<table border=\"1\" class=\"dataframe\">\n",
       "  <thead>\n",
       "    <tr style=\"text-align: right;\">\n",
       "      <th></th>\n",
       "      <th>K</th>\n",
       "      <th>K_grundläggande</th>\n",
       "      <th>K_integritet</th>\n",
       "      <th>A</th>\n",
       "      <th>A_egen_data</th>\n",
       "      <th>A_gen_insamling</th>\n",
       "      <th>B</th>\n",
       "      <th>B_bilder_dark</th>\n",
       "      <th>B_bilder_no_dark</th>\n",
       "      <th>B2_agerande</th>\n",
       "      <th>B3_aktivt agerande</th>\n",
       "    </tr>\n",
       "  </thead>\n",
       "  <tbody>\n",
       "    <tr>\n",
       "      <th>0</th>\n",
       "      <td>3.789167</td>\n",
       "      <td>3.606667</td>\n",
       "      <td>3.971667</td>\n",
       "      <td>4.285</td>\n",
       "      <td>4.16875</td>\n",
       "      <td>4.5175</td>\n",
       "      <td>2.447273</td>\n",
       "      <td>1.993333</td>\n",
       "      <td>2.24</td>\n",
       "      <td>2.99</td>\n",
       "      <td>2.496667</td>\n",
       "    </tr>\n",
       "  </tbody>\n",
       "</table>\n",
       "</div>"
      ],
      "text/plain": [
       "          K  K_grundläggande  K_integritet      A  A_egen_data  \\\n",
       "0  3.789167         3.606667      3.971667  4.285      4.16875   \n",
       "\n",
       "   A_gen_insamling         B  B_bilder_dark  B_bilder_no_dark  B2_agerande  \\\n",
       "0           4.5175  2.447273       1.993333              2.24         2.99   \n",
       "\n",
       "   B3_aktivt agerande  \n",
       "0            2.496667  "
      ]
     },
     "execution_count": 15,
     "metadata": {},
     "output_type": "execute_result"
    }
   ],
   "source": [
    "df_kategoriserad.head()"
   ]
  },
  {
   "cell_type": "code",
   "execution_count": 16,
   "metadata": {},
   "outputs": [],
   "source": [
    "\n",
    "medel_k = df.iloc[:, 17:29].mean(axis=1).round(2)\n",
    "medel_k1 = df.iloc[:, 17:23].mean(axis=1)\n",
    "medel_k2 = df.iloc[:, 23:29].mean(axis=1)\n",
    "medel_a = df.iloc[:, 29:].mean(axis=1)\n",
    "medel_a1 = df.iloc[:, 29:37].mean(axis=1)\n",
    "medel_a2 = df.iloc[:, 37:].mean(axis=1)\n",
    "medel_b = df.iloc[:, 6:17].mean(axis=1)\n",
    "medel_b1_dark = df.iloc[:,[6,7,9]].mean(axis=1)\n",
    "medel_b1_no_dark = df.iloc[:,[8,10]].mean(axis=1)\n",
    "medel_b2 = df.iloc[:, 11:14].mean(axis=1)\n",
    "medel_b3 = df.iloc[:, 14:17].mean(axis=1)\n",
    "\n",
    "\n",
    "df_resp_sum = pd.DataFrame({\n",
    "                      'Kön': df.iloc[:,0],\n",
    "                      'Årskurs': df.iloc[:,1],\n",
    "                      'Program': df.iloc[:,2],\n",
    "                      'Invånare': df.iloc[:,3],\n",
    "                      'K': medel_k,\n",
    "                      'K_grundläggande': medel_k1,\n",
    "                      'K_integritet': medel_k2,\n",
    "                      'A': medel_a,\n",
    "                      'A_egen_data': medel_a1,\n",
    "                      'A_gen_insamling': medel_a2,\n",
    "                      'B': medel_b,\n",
    "                      'B_bilder_dark': medel_b1_dark,\n",
    "                      'B_bilder_no_dark': medel_b1_no_dark,\n",
    "                      'B2_agerande': medel_b2,\n",
    "                      'B3_aktivt agerande': medel_b3\n",
    "                      })"
   ]
  },
  {
   "cell_type": "code",
   "execution_count": 17,
   "metadata": {},
   "outputs": [
    {
     "data": {
      "text/html": [
       "<div>\n",
       "<style scoped>\n",
       "    .dataframe tbody tr th:only-of-type {\n",
       "        vertical-align: middle;\n",
       "    }\n",
       "\n",
       "    .dataframe tbody tr th {\n",
       "        vertical-align: top;\n",
       "    }\n",
       "\n",
       "    .dataframe thead th {\n",
       "        text-align: right;\n",
       "    }\n",
       "</style>\n",
       "<table border=\"1\" class=\"dataframe\">\n",
       "  <thead>\n",
       "    <tr style=\"text-align: right;\">\n",
       "      <th></th>\n",
       "      <th>Kön</th>\n",
       "      <th>Årskurs</th>\n",
       "      <th>Program</th>\n",
       "      <th>Invånare</th>\n",
       "      <th>K</th>\n",
       "      <th>K_grundläggande</th>\n",
       "      <th>K_integritet</th>\n",
       "      <th>A</th>\n",
       "      <th>A_egen_data</th>\n",
       "      <th>A_gen_insamling</th>\n",
       "      <th>B</th>\n",
       "      <th>B_bilder_dark</th>\n",
       "      <th>B_bilder_no_dark</th>\n",
       "      <th>B2_agerande</th>\n",
       "      <th>B3_aktivt agerande</th>\n",
       "    </tr>\n",
       "  </thead>\n",
       "  <tbody>\n",
       "    <tr>\n",
       "      <th>0</th>\n",
       "      <td>Man</td>\n",
       "      <td>Årskurs 3</td>\n",
       "      <td>Naturvetenskap</td>\n",
       "      <td>medel</td>\n",
       "      <td>3.25</td>\n",
       "      <td>1.833333</td>\n",
       "      <td>4.666667</td>\n",
       "      <td>5.500000</td>\n",
       "      <td>5.500</td>\n",
       "      <td>5.50</td>\n",
       "      <td>2.181818</td>\n",
       "      <td>1.000000</td>\n",
       "      <td>3.5</td>\n",
       "      <td>3.666667</td>\n",
       "      <td>1.0</td>\n",
       "    </tr>\n",
       "    <tr>\n",
       "      <th>1</th>\n",
       "      <td>Man</td>\n",
       "      <td>Årskurs 3</td>\n",
       "      <td>Samhällsvetenskap</td>\n",
       "      <td>medel</td>\n",
       "      <td>1.58</td>\n",
       "      <td>2.166667</td>\n",
       "      <td>1.000000</td>\n",
       "      <td>4.833333</td>\n",
       "      <td>4.625</td>\n",
       "      <td>5.25</td>\n",
       "      <td>1.545455</td>\n",
       "      <td>1.000000</td>\n",
       "      <td>2.0</td>\n",
       "      <td>2.333333</td>\n",
       "      <td>1.0</td>\n",
       "    </tr>\n",
       "    <tr>\n",
       "      <th>2</th>\n",
       "      <td>Kvinna</td>\n",
       "      <td>Årskurs 3</td>\n",
       "      <td>Naturvetenskap</td>\n",
       "      <td>liten</td>\n",
       "      <td>1.67</td>\n",
       "      <td>2.333333</td>\n",
       "      <td>1.000000</td>\n",
       "      <td>6.250000</td>\n",
       "      <td>6.000</td>\n",
       "      <td>6.75</td>\n",
       "      <td>1.363636</td>\n",
       "      <td>1.000000</td>\n",
       "      <td>1.0</td>\n",
       "      <td>2.333333</td>\n",
       "      <td>1.0</td>\n",
       "    </tr>\n",
       "    <tr>\n",
       "      <th>3</th>\n",
       "      <td>Kvinna</td>\n",
       "      <td>Årskurs 3</td>\n",
       "      <td>Samhällsvetenskap</td>\n",
       "      <td>liten</td>\n",
       "      <td>2.33</td>\n",
       "      <td>1.166667</td>\n",
       "      <td>3.500000</td>\n",
       "      <td>4.666667</td>\n",
       "      <td>4.375</td>\n",
       "      <td>5.25</td>\n",
       "      <td>1.000000</td>\n",
       "      <td>1.000000</td>\n",
       "      <td>1.0</td>\n",
       "      <td>1.000000</td>\n",
       "      <td>1.0</td>\n",
       "    </tr>\n",
       "    <tr>\n",
       "      <th>4</th>\n",
       "      <td>Kvinna</td>\n",
       "      <td>Årskurs 3</td>\n",
       "      <td>Naturvetenskap</td>\n",
       "      <td>liten</td>\n",
       "      <td>5.08</td>\n",
       "      <td>4.666667</td>\n",
       "      <td>5.500000</td>\n",
       "      <td>4.416667</td>\n",
       "      <td>4.250</td>\n",
       "      <td>4.75</td>\n",
       "      <td>2.727273</td>\n",
       "      <td>1.666667</td>\n",
       "      <td>2.0</td>\n",
       "      <td>4.000000</td>\n",
       "      <td>3.0</td>\n",
       "    </tr>\n",
       "  </tbody>\n",
       "</table>\n",
       "</div>"
      ],
      "text/plain": [
       "      Kön    Årskurs            Program Invånare     K  K_grundläggande  \\\n",
       "0     Man  Årskurs 3     Naturvetenskap    medel  3.25         1.833333   \n",
       "1     Man  Årskurs 3  Samhällsvetenskap    medel  1.58         2.166667   \n",
       "2  Kvinna  Årskurs 3     Naturvetenskap    liten  1.67         2.333333   \n",
       "3  Kvinna  Årskurs 3  Samhällsvetenskap    liten  2.33         1.166667   \n",
       "4  Kvinna  Årskurs 3     Naturvetenskap    liten  5.08         4.666667   \n",
       "\n",
       "   K_integritet         A  A_egen_data  A_gen_insamling         B  \\\n",
       "0      4.666667  5.500000        5.500             5.50  2.181818   \n",
       "1      1.000000  4.833333        4.625             5.25  1.545455   \n",
       "2      1.000000  6.250000        6.000             6.75  1.363636   \n",
       "3      3.500000  4.666667        4.375             5.25  1.000000   \n",
       "4      5.500000  4.416667        4.250             4.75  2.727273   \n",
       "\n",
       "   B_bilder_dark  B_bilder_no_dark  B2_agerande  B3_aktivt agerande  \n",
       "0       1.000000               3.5     3.666667                 1.0  \n",
       "1       1.000000               2.0     2.333333                 1.0  \n",
       "2       1.000000               1.0     2.333333                 1.0  \n",
       "3       1.000000               1.0     1.000000                 1.0  \n",
       "4       1.666667               2.0     4.000000                 3.0  "
      ]
     },
     "execution_count": 17,
     "metadata": {},
     "output_type": "execute_result"
    }
   ],
   "source": [
    "df_resp_sum.head()"
   ]
  },
  {
   "cell_type": "markdown",
   "metadata": {},
   "source": [
    "<h1>Demografi</h1>"
   ]
  },
  {
   "cell_type": "code",
   "execution_count": 18,
   "metadata": {},
   "outputs": [
    {
     "data": {
      "text/html": [
       "<div>\n",
       "<style scoped>\n",
       "    .dataframe tbody tr th:only-of-type {\n",
       "        vertical-align: middle;\n",
       "    }\n",
       "\n",
       "    .dataframe tbody tr th {\n",
       "        vertical-align: top;\n",
       "    }\n",
       "\n",
       "    .dataframe thead th {\n",
       "        text-align: right;\n",
       "    }\n",
       "</style>\n",
       "<table border=\"1\" class=\"dataframe\">\n",
       "  <thead>\n",
       "    <tr style=\"text-align: right;\">\n",
       "      <th></th>\n",
       "      <th>Kön</th>\n",
       "      <th>Vilken årskurs går du i?</th>\n",
       "      <th>Vilket av följande beskriver bäst ditt program?</th>\n",
       "      <th>Hur många invånare har orten där du bor?</th>\n",
       "      <th>Jag känner till GDPR.</th>\n",
       "      <th>Jag litar på att hemsidor hanterar mina personuppgifter på ett ansvarsfullt sätt.</th>\n",
       "    </tr>\n",
       "  </thead>\n",
       "  <tbody>\n",
       "    <tr>\n",
       "      <th>0</th>\n",
       "      <td>Man</td>\n",
       "      <td>Årskurs 3</td>\n",
       "      <td>Naturvetenskap</td>\n",
       "      <td>medel</td>\n",
       "      <td>5.0</td>\n",
       "      <td>5.0</td>\n",
       "    </tr>\n",
       "    <tr>\n",
       "      <th>1</th>\n",
       "      <td>Man</td>\n",
       "      <td>Årskurs 3</td>\n",
       "      <td>Samhällsvetenskap</td>\n",
       "      <td>medel</td>\n",
       "      <td>1.0</td>\n",
       "      <td>7.0</td>\n",
       "    </tr>\n",
       "    <tr>\n",
       "      <th>2</th>\n",
       "      <td>Kvinna</td>\n",
       "      <td>Årskurs 3</td>\n",
       "      <td>Naturvetenskap</td>\n",
       "      <td>liten</td>\n",
       "      <td>5.0</td>\n",
       "      <td>4.0</td>\n",
       "    </tr>\n",
       "    <tr>\n",
       "      <th>3</th>\n",
       "      <td>Kvinna</td>\n",
       "      <td>Årskurs 3</td>\n",
       "      <td>Samhällsvetenskap</td>\n",
       "      <td>liten</td>\n",
       "      <td>5.0</td>\n",
       "      <td>3.0</td>\n",
       "    </tr>\n",
       "    <tr>\n",
       "      <th>4</th>\n",
       "      <td>Kvinna</td>\n",
       "      <td>Årskurs 3</td>\n",
       "      <td>Naturvetenskap</td>\n",
       "      <td>liten</td>\n",
       "      <td>6.0</td>\n",
       "      <td>6.0</td>\n",
       "    </tr>\n",
       "  </tbody>\n",
       "</table>\n",
       "</div>"
      ],
      "text/plain": [
       "     Kön  Vilken årskurs går du i?  \\\n",
       "0     Man                Årskurs 3   \n",
       "1     Man                Årskurs 3   \n",
       "2  Kvinna                Årskurs 3   \n",
       "3  Kvinna                Årskurs 3   \n",
       "4  Kvinna                Årskurs 3   \n",
       "\n",
       "  Vilket av följande beskriver bäst ditt program?   \\\n",
       "0                                   Naturvetenskap   \n",
       "1                                Samhällsvetenskap   \n",
       "2                                   Naturvetenskap   \n",
       "3                                Samhällsvetenskap   \n",
       "4                                   Naturvetenskap   \n",
       "\n",
       "  Hur många invånare har orten där du bor?  Jag känner till GDPR.   \\\n",
       "0                                    medel                     5.0   \n",
       "1                                    medel                     1.0   \n",
       "2                                    liten                     5.0   \n",
       "3                                    liten                     5.0   \n",
       "4                                    liten                     6.0   \n",
       "\n",
       "   Jag litar på att hemsidor hanterar mina personuppgifter på ett ansvarsfullt sätt.    \n",
       "0                                                5.0                                    \n",
       "1                                                7.0                                    \n",
       "2                                                4.0                                    \n",
       "3                                                3.0                                    \n",
       "4                                                6.0                                    "
      ]
     },
     "execution_count": 18,
     "metadata": {},
     "output_type": "execute_result"
    }
   ],
   "source": [
    "df_demografi.head()"
   ]
  },
  {
   "cell_type": "code",
   "execution_count": 19,
   "metadata": {},
   "outputs": [
    {
     "data": {
      "text/plain": [
       "<module 'matplotlib.pyplot' from 'C:\\\\Users\\\\Stenh\\\\AppData\\\\Local\\\\Packages\\\\PythonSoftwareFoundation.Python.3.13_qbz5n2kfra8p0\\\\LocalCache\\\\local-packages\\\\Python313\\\\site-packages\\\\matplotlib\\\\pyplot.py'>"
      ]
     },
     "execution_count": 19,
     "metadata": {},
     "output_type": "execute_result"
    },
    {
     "data": {
      "image/png": "[encoded data removed]",
      "text/plain": [
       "<Figure size 640x480 with 2 Axes>"
      ]
     },
     "metadata": {},
     "output_type": "display_data"
    }
   ],
   "source": [
    "df_number = df_resp_sum.select_dtypes(include='number')\n",
    "matrix = df_number.corr()\n",
    "sns.heatmap(matrix,annot=True)\n",
    "plt"
   ]
  },
  {
   "cell_type": "markdown",
   "metadata": {},
   "source": [
    "<h1>Medelvärde av kategorier</h1>"
   ]
  },
  {
   "cell_type": "markdown",
   "metadata": {},
   "source": [
    "<h1>Reliabilitetstest</h1>"
   ]
  },
  {
   "cell_type": "code",
   "execution_count": 20,
   "metadata": {},
   "outputs": [],
   "source": [
    "def cronbach_alpha(df):\n",
    "  k = df.shape[1]\n",
    "  varians_total = df.sum(axis=1).var(ddof=1)\n",
    "  varians_frågor = df.var(axis=0,ddof=1).sum()\n",
    "\n",
    "  alpha = (k / (k - 1)) * (1 - varians_frågor / varians_total)\n",
    "\n",
    "  return round(alpha, 3)"
   ]
  },
  {
   "cell_type": "code",
   "execution_count": 21,
   "metadata": {},
   "outputs": [
    {
     "name": "stdout",
     "output_type": "stream",
     "text": [
      "Kunskap = 0.954 0.91 0.945 attityd = 0.931 0.92 0.805 beteende = 0.81 0.878 0.788 0.723 0.805\n"
     ]
    }
   ],
   "source": [
    "k_rel = cronbach_alpha(utvalda_k)\n",
    "k1_rel = cronbach_alpha(utvalda_k1)\n",
    "k2_rel = cronbach_alpha(utvalda_k2)\n",
    "\n",
    "a_rel = cronbach_alpha(utvalda_a)\n",
    "a1_rel = cronbach_alpha(utvalda_a1)\n",
    "a2_rel = cronbach_alpha(utvalda_a2)\n",
    "\n",
    "b_rel = cronbach_alpha(utvalda_b)\n",
    "b1_dark_rel = cronbach_alpha(utvalda_b1_dark)\n",
    "b1_no_dark_rel = cronbach_alpha(utvalda_b1_no_dark)\n",
    "b2_rel = cronbach_alpha(utvalda_b2)\n",
    "b3_rel = cronbach_alpha(utvalda_b3)\n",
    "\n",
    "attityd = cronbach_alpha(df.iloc[:,29:])\n",
    "beteende = cronbach_alpha(df.iloc[:, 6:17])\n",
    "Beteende_bilder = cronbach_alpha(df.iloc[:, 11:17])\n",
    "print(\"Kunskap =\", k_rel, k1_rel, k2_rel, \"attityd =\", a_rel, a1_rel, a2_rel, \"beteende =\", b_rel, b1_dark_rel,b1_no_dark_rel,b2_rel,b3_rel)"
   ]
  },
  {
   "cell_type": "markdown",
   "metadata": {},
   "source": []
  },
  {
   "cell_type": "markdown",
   "metadata": {},
   "source": [
    "<h1>Korrelationstest</h1>"
   ]
  },
  {
   "cell_type": "code",
   "execution_count": 22,
   "metadata": {},
   "outputs": [],
   "source": [
    "korrelation = df_resp_sum.iloc[:,4:].corr(method='pearson')"
   ]
  },
  {
   "cell_type": "code",
   "execution_count": 23,
   "metadata": {},
   "outputs": [
    {
     "data": {
      "text/plain": [
       "<module 'matplotlib.pyplot' from 'C:\\\\Users\\\\Stenh\\\\AppData\\\\Local\\\\Packages\\\\PythonSoftwareFoundation.Python.3.13_qbz5n2kfra8p0\\\\LocalCache\\\\local-packages\\\\Python313\\\\site-packages\\\\matplotlib\\\\pyplot.py'>"
      ]
     },
     "execution_count": 23,
     "metadata": {},
     "output_type": "execute_result"
    },
    {
     "data": {
      "image/png": "[encoded data removed]",
      "text/plain": [
       "<Figure size 640x480 with 2 Axes>"
      ]
     },
     "metadata": {},
     "output_type": "display_data"
    }
   ],
   "source": [
    "sns.heatmap(korrelation, annot=True, cmap='coolwarm', center=0)\n",
    "plt"
   ]
  },
  {
   "cell_type": "markdown",
   "metadata": {},
   "source": [
    "<h1>SEM</h1>"
   ]
  },
  {
   "cell_type": "code",
   "execution_count": 24,
   "metadata": {},
   "outputs": [
    {
     "name": "stdout",
     "output_type": "stream",
     "text": [
      "Defaulting to user installation because normal site-packages is not writeable\n",
      "Requirement already satisfied: semopy in c:\\users\\stenh\\appdata\\local\\packages\\pythonsoftwarefoundation.python.3.13_qbz5n2kfra8p0\\localcache\\local-packages\\python313\\site-packages (2.3.11)\n",
      "Requirement already satisfied: scipy in c:\\users\\stenh\\appdata\\local\\packages\\pythonsoftwarefoundation.python.3.13_qbz5n2kfra8p0\\localcache\\local-packages\\python313\\site-packages (from semopy) (1.15.2)\n",
      "Requirement already satisfied: numpy in c:\\users\\stenh\\appdata\\local\\packages\\pythonsoftwarefoundation.python.3.13_qbz5n2kfra8p0\\localcache\\local-packages\\python313\\site-packages (from semopy) (2.2.3)\n",
      "Requirement already satisfied: pandas in c:\\users\\stenh\\appdata\\local\\packages\\pythonsoftwarefoundation.python.3.13_qbz5n2kfra8p0\\localcache\\local-packages\\python313\\site-packages (from semopy) (2.2.3)\n",
      "Requirement already satisfied: sympy in c:\\users\\stenh\\appdata\\local\\packages\\pythonsoftwarefoundation.python.3.13_qbz5n2kfra8p0\\localcache\\local-packages\\python313\\site-packages (from semopy) (1.13.3)\n",
      "Requirement already satisfied: scikit-learn in c:\\users\\stenh\\appdata\\local\\packages\\pythonsoftwarefoundation.python.3.13_qbz5n2kfra8p0\\localcache\\local-packages\\python313\\site-packages (from semopy) (1.6.1)\n",
      "Requirement already satisfied: statsmodels in c:\\users\\stenh\\appdata\\local\\packages\\pythonsoftwarefoundation.python.3.13_qbz5n2kfra8p0\\localcache\\local-packages\\python313\\site-packages (from semopy) (0.14.4)\n",
      "Requirement already satisfied: numdifftools in c:\\users\\stenh\\appdata\\local\\packages\\pythonsoftwarefoundation.python.3.13_qbz5n2kfra8p0\\localcache\\local-packages\\python313\\site-packages (from semopy) (0.9.41)\n",
      "Requirement already satisfied: python-dateutil>=2.8.2 in c:\\users\\stenh\\appdata\\local\\packages\\pythonsoftwarefoundation.python.3.13_qbz5n2kfra8p0\\localcache\\local-packages\\python313\\site-packages (from pandas->semopy) (2.9.0.post0)\n",
      "Requirement already satisfied: pytz>=2020.1 in c:\\users\\stenh\\appdata\\local\\packages\\pythonsoftwarefoundation.python.3.13_qbz5n2kfra8p0\\localcache\\local-packages\\python313\\site-packages (from pandas->semopy) (2025.1)\n",
      "Requirement already satisfied: tzdata>=2022.7 in c:\\users\\stenh\\appdata\\local\\packages\\pythonsoftwarefoundation.python.3.13_qbz5n2kfra8p0\\localcache\\local-packages\\python313\\site-packages (from pandas->semopy) (2025.1)\n",
      "Requirement already satisfied: joblib>=1.2.0 in c:\\users\\stenh\\appdata\\local\\packages\\pythonsoftwarefoundation.python.3.13_qbz5n2kfra8p0\\localcache\\local-packages\\python313\\site-packages (from scikit-learn->semopy) (1.4.2)\n",
      "Requirement already satisfied: threadpoolctl>=3.1.0 in c:\\users\\stenh\\appdata\\local\\packages\\pythonsoftwarefoundation.python.3.13_qbz5n2kfra8p0\\localcache\\local-packages\\python313\\site-packages (from scikit-learn->semopy) (3.5.0)\n",
      "Requirement already satisfied: patsy>=0.5.6 in c:\\users\\stenh\\appdata\\local\\packages\\pythonsoftwarefoundation.python.3.13_qbz5n2kfra8p0\\localcache\\local-packages\\python313\\site-packages (from statsmodels->semopy) (1.0.1)\n",
      "Requirement already satisfied: packaging>=21.3 in c:\\users\\stenh\\appdata\\local\\packages\\pythonsoftwarefoundation.python.3.13_qbz5n2kfra8p0\\localcache\\local-packages\\python313\\site-packages (from statsmodels->semopy) (24.2)\n",
      "Requirement already satisfied: mpmath<1.4,>=1.1.0 in c:\\users\\stenh\\appdata\\local\\packages\\pythonsoftwarefoundation.python.3.13_qbz5n2kfra8p0\\localcache\\local-packages\\python313\\site-packages (from sympy->semopy) (1.3.0)\n",
      "Requirement already satisfied: six>=1.5 in c:\\users\\stenh\\appdata\\local\\packages\\pythonsoftwarefoundation.python.3.13_qbz5n2kfra8p0\\localcache\\local-packages\\python313\\site-packages (from python-dateutil>=2.8.2->pandas->semopy) (1.17.0)\n"
     ]
    }
   ],
   "source": [
    "!pip install semopy"
   ]
  },
  {
   "cell_type": "code",
   "execution_count": 25,
   "metadata": {},
   "outputs": [
    {
     "name": "stdout",
     "output_type": "stream",
     "text": [
      "\n",
      "--- SEM Resultat (koefficienter & p-värden) ---\n",
      "        lval  op       rval  Estimate  Std. Err   z-value   p-value\n",
      "0   Attitude   ~  Knowledge  0.298542  0.108114  2.761369  0.005756\n",
      "1   Behavior   ~   Attitude -0.031418  0.039518 -0.795031  0.426596\n",
      "2         K1   ~  Knowledge  1.000000         -         -         -\n",
      "3         K2   ~  Knowledge  1.243913  0.124476  9.993173       0.0\n",
      "4         K3   ~  Knowledge  0.962615  0.134625  7.150359       0.0\n",
      "..       ...  ..        ...       ...       ...       ...       ...\n",
      "72        K5  ~~         K5  1.551313  0.231539  6.700019       0.0\n",
      "73        K6  ~~         K6  0.900535  0.146157  6.161422       0.0\n",
      "74        K7  ~~         K7  1.549777  0.237179  6.534212       0.0\n",
      "75        K8  ~~         K8  1.016428  0.165893  6.127027       0.0\n",
      "76        K9  ~~         K9  1.145900  0.184572  6.208432       0.0\n",
      "\n",
      "[77 rows x 7 columns]\n"
     ]
    }
   ],
   "source": [
    "# 1. INSTALLERA nödvändiga paket först via terminal:\n",
    "# pip install pandas semopy openpyxl\n",
    "\n",
    "import pandas as pd\n",
    "from semopy import Model, Optimizer\n",
    "from semopy.inspector import inspect\n",
    "\n",
    "# # 2. LÄS IN DIN CSV\n",
    "# df = pd.read_csv(\"Undersökning om gymnasieelevers cookie-hantering (Svar) - Formulärsvar 1.csv\")\n",
    "# df.columns = df.columns.str.strip()\n",
    "\n",
    "# 3. DEFINIERA KAB-GRUPPER baserat på index\n",
    "behavior_cols = df.columns[5:17].tolist()\n",
    "knowledge_cols = df.columns[17:29].tolist()\n",
    "attitude_cols = df.columns[29:].tolist()\n",
    "\n",
    "# 4. DÖP OM kolumner till enklare namn\n",
    "rename_map = {}\n",
    "for i, col in enumerate(knowledge_cols):\n",
    "    rename_map[col] = f\"K{i+1}\"\n",
    "for i, col in enumerate(attitude_cols):\n",
    "    rename_map[col] = f\"A{i+1}\"\n",
    "for i, col in enumerate(behavior_cols):\n",
    "    rename_map[col] = f\"B{i+1}\"\n",
    "\n",
    "df_clean = df.rename(columns=rename_map)\n",
    "\n",
    "# 5. SKAPA MODELL i semopy-syntax\n",
    "model_desc = f\"\"\"\n",
    "Knowledge =~ {' + '.join(rename_map[c] for c in knowledge_cols)}\n",
    "Attitude  =~ {' + '.join(rename_map[c] for c in attitude_cols)}\n",
    "Behavior  =~ {' + '.join(rename_map[c] for c in behavior_cols)}\n",
    "\n",
    "Attitude ~ Knowledge\n",
    "Behavior ~ Attitude\n",
    "\"\"\"\n",
    "\n",
    "# 6. Rensa bort tomma rader för SEM\n",
    "df_clean = df_clean.dropna(subset=rename_map.values())\n",
    "\n",
    "# 7. BYGG OCH TRÄNA MODELLEN\n",
    "model = Model(model_desc)\n",
    "model.fit(df_clean)\n",
    "\n",
    "# 8. VISA RESULTAT\n",
    "results = inspect(model)\n",
    "print(\"\\n--- SEM Resultat (koefficienter & p-värden) ---\")\n",
    "print(results)\n",
    "\n",
    "\n"
   ]
  },
  {
   "cell_type": "code",
   "execution_count": 26,
   "metadata": {},
   "outputs": [
    {
     "name": "stdout",
     "output_type": "stream",
     "text": [
      "\n",
      "--- R² för beroende latenta variabler ---\n",
      "Attitude: 0.089\n",
      "Behavior: 0.001\n"
     ]
    }
   ],
   "source": [
    "from semopy.inspector import inspect\n",
    "\n",
    "# Hämta standardiserade värden\n",
    "estimates = inspect(model)\n",
    "\n",
    "# Räkna ut R² manuellt\n",
    "def calculate_r2(est_df, dependent_var):\n",
    "    effects = est_df[(est_df[\"op\"] == \"~\") & (est_df[\"lval\"] == dependent_var)]\n",
    "    r2 = sum(effects[\"Estimate\"]**2)\n",
    "    return r2\n",
    "\n",
    "dependent_vars = [\"Attitude\", \"Behavior\"]\n",
    "\n",
    "print(\"\\n--- R² för beroende latenta variabler ---\")\n",
    "for var in dependent_vars:\n",
    "    r2_val = calculate_r2(estimates, var)\n",
    "    print(f\"{var}: {r2_val:.3f}\")\n",
    "\n"
   ]
  },
  {
   "cell_type": "code",
   "execution_count": 27,
   "metadata": {},
   "outputs": [
    {
     "name": "stdout",
     "output_type": "stream",
     "text": [
      "Modellen är sparad som kab_model.png\n"
     ]
    }
   ],
   "source": [
    "from semopy import semplot\n",
    "\n",
    "# Skapa en PDF- eller PNG-bild av modellen\n",
    "semplot(model, 'kab_model.png')  # eller .pdf\n",
    "print(\"Modellen är sparad som kab_model.png\")\n"
   ]
  },
  {
   "cell_type": "markdown",
   "metadata": {},
   "source": [
    "<h1>T-test/ANOVA</h1>"
   ]
  },
  {
   "cell_type": "markdown",
   "metadata": {},
   "source": [
    "***T-Test för grupper som känner till/ inte känner till GDPR***\n",
    "\n",
    "-   Resultaten från t-testerna visar att det inte finns några statistiskt signifikanta skillnader i kunskap, attityd eller beteende mellan elever som rapporterar låg respektive hög kännedom om GDPR (p > 0.05). Detta tyder på att självupplevd GDPR-kännedom inte nödvändigtvis innebär en djupare förståelse för cookies, inte heller en mer integritetsmedveten attityd eller förändrat beteende. Resultatet kan ses i ljuset av den så kallade privacy paradox, där individer uttrycker oro för sin integritet men inte agerar i linje med denna oro. Det antyder att insatser som syftar till att öka medvetenheten om integritet behöver gå bortom ren informationsspridning och i stället fokusera på att öka faktisk förståelse och användarkompetens."
   ]
  },
  {
   "cell_type": "markdown",
   "metadata": {},
   "source": []
  },
  {
   "cell_type": "code",
   "execution_count": 28,
   "metadata": {},
   "outputs": [
    {
     "name": "stdout",
     "output_type": "stream",
     "text": [
      "📘 T-test: Kunskap (K)\n",
      "  t = 3.890, p = 0.0002\n",
      "📗 T-test: Attityd (A)\n",
      "  t = 6.104, p = 0.0000\n",
      "📙 T-test: Beteende (B)\n",
      "  t = 3.424, p = 0.0010\n"
     ]
    }
   ],
   "source": [
    "df_tTest = df_resp_sum.copy()\n",
    "\n",
    "gdpr_kännedom = df.iloc[:, 31]\n",
    "\n",
    "df_tTest['Integritet_online'] = gdpr_kännedom\n",
    "\n",
    "låg_kännedom = df_tTest[df_tTest['Integritet_online'] < 4]\n",
    "hög_kännedom = df_tTest[df_tTest['Integritet_online'] > 4]\n",
    "\n",
    "from scipy.stats import ttest_ind\n",
    "\n",
    "t_k = ttest_ind(hög_kännedom['K'], låg_kännedom['K'], nan_policy='omit')\n",
    "t_a = ttest_ind(hög_kännedom['A'], låg_kännedom['A'], nan_policy='omit')\n",
    "t_b = ttest_ind(hög_kännedom['B'], låg_kännedom['B'], nan_policy='omit')\n",
    "\n",
    "print(\"📘 T-test: Kunskap (K)\")\n",
    "print(f\"  t = {t_k.statistic:.3f}, p = {t_k.pvalue:.4f}\")\n",
    "\n",
    "print(\"📗 T-test: Attityd (A)\")\n",
    "print(f\"  t = {t_a.statistic:.3f}, p = {t_a.pvalue:.4f}\")\n",
    "\n",
    "print(\"📙 T-test: Beteende (B)\")\n",
    "print(f\"  t = {t_b.statistic:.3f}, p = {t_b.pvalue:.4f}\")\n",
    "\n",
    "\n"
   ]
  },
  {
   "cell_type": "code",
   "execution_count": 29,
   "metadata": {},
   "outputs": [
    {
     "data": {
      "image/png": "[encoded data removed]",
      "text/plain": [
       "<Figure size 1000x600 with 1 Axes>"
      ]
     },
     "metadata": {},
     "output_type": "display_data"
    }
   ],
   "source": [
    "df_tTest['Integritet_online_grupp'] = df_tTest['Integritet_online'].apply(\n",
    "    lambda x: 'Låg (1–3)' if x < 4 else 'Hög (4–5)'\n",
    ")\n",
    "\n",
    "df_melted = df_tTest.melt(id_vars=\"Integritet_online_grupp\", value_vars=[\"K\", \"A\", \"B\"],\n",
    "                          var_name=\"Kategori\", value_name=\"Värde\")\n",
    "\n",
    "plt.figure(figsize=(10, 6))\n",
    "sns.boxplot(data=df_melted, x=\"Kategori\", y=\"Värde\", hue=\"Integritet_online_grupp\", palette=\"Set2\")\n",
    "plt.title(\"Skillnader i Kunskap (K), Attityd (A) och Beteende (B) beroende på Integritet_online\")\n",
    "plt.ylabel(\"Medelvärde\")\n",
    "plt.xlabel(\"Kategori\")\n",
    "plt.legend(title=\"Integritet_online\")\n",
    "plt.tight_layout()\n",
    "plt.show()\n",
    "\n"
   ]
  },
  {
   "cell_type": "markdown",
   "metadata": {},
   "source": [
    "***T-TEst för skillnad mellan kön***\n",
    "\n",
    "Resultaten från t-tester visar att det finns en statistiskt signifikant könsskillnad i både kunskapsnivå och beteende kopplat till cookies, men inte i attityd. Män och kvinnor skiljer sig alltså i hur mycket de vet om cookies, samt hur de agerar i praktiken (t.ex. raderar cookies eller blockerar spårning), men har en liknande inställning till datainsamling. Det antyder att kön kan vara en relevant faktor vid utformning av informationsinsatser, särskilt om målet är att öka faktisk förståelse eller förändra beteende. Att attityden däremot inte skiljer sig kan tyda på att både män och kvinnor i liknande grad värderar digital integritet, men att de omsätter den i handling på olika sätt."
   ]
  },
  {
   "cell_type": "code",
   "execution_count": 30,
   "metadata": {},
   "outputs": [
    {
     "name": "stdout",
     "output_type": "stream",
     "text": [
      "📘 T-test: Kunskap (Könsskillnad)\n",
      "  t = -2.686, p = 0.0085\n",
      "📗 T-test: Attityd (Könsskillnad)\n",
      "  t = 1.007, p = 0.3167\n",
      "📙 T-test: Beteende (Könsskillnad)\n",
      "  t = -2.293, p = 0.0240\n"
     ]
    }
   ],
   "source": [
    "from scipy.stats import ttest_ind\n",
    "\n",
    "# Lägg till kön i df_resp_sum (index 1 = könskolumn i ursprunglig df)\n",
    "\n",
    "\n",
    "# Skapa två grupper\n",
    "kvinnor = df_resp_sum[df_resp_sum['Kön'] == 'Kvinna']\n",
    "män = df_resp_sum[df_resp_sum['Kön'] == 'Man']\n",
    "\n",
    "# Kör t-tester för K, A, B\n",
    "t_k = ttest_ind(kvinnor['K'], män['K'], nan_policy='omit')\n",
    "t_a = ttest_ind(kvinnor['A'], män['A'], nan_policy='omit')\n",
    "t_b = ttest_ind(kvinnor['B'], män['B'], nan_policy='omit')\n",
    "\n",
    "# Visa resultat\n",
    "print(\"📘 T-test: Kunskap (Könsskillnad)\")\n",
    "print(f\"  t = {t_k.statistic:.3f}, p = {t_k.pvalue:.4f}\")\n",
    "\n",
    "print(\"📗 T-test: Attityd (Könsskillnad)\")\n",
    "print(f\"  t = {t_a.statistic:.3f}, p = {t_a.pvalue:.4f}\")\n",
    "\n",
    "print(\"📙 T-test: Beteende (Könsskillnad)\")\n",
    "print(f\"  t = {t_b.statistic:.3f}, p = {t_b.pvalue:.4f}\")\n"
   ]
  },
  {
   "cell_type": "code",
   "execution_count": 31,
   "metadata": {},
   "outputs": [
    {
     "name": "stdout",
     "output_type": "stream",
     "text": [
      "2.090909090909091 2.611940298507463\n"
     ]
    }
   ],
   "source": [
    "print(kvinnor['B'].mean(), män['B'].mean())"
   ]
  },
  {
   "cell_type": "code",
   "execution_count": 32,
   "metadata": {},
   "outputs": [
    {
     "data": {
      "image/png": "[encoded data removed]",
      "text/plain": [
       "<Figure size 1000x600 with 1 Axes>"
      ]
     },
     "metadata": {},
     "output_type": "display_data"
    }
   ],
   "source": [
    "# Gör om till långform för seaborn\n",
    "df_melted = df_resp_sum.melt(id_vars=\"Kön\", value_vars=[\"K\", \"A\", \"B\"], \n",
    "                             var_name=\"Kategori\", value_name=\"Värde\")\n",
    "\n",
    "# Rita boxplot\n",
    "plt.figure(figsize=(10, 6))\n",
    "sns.boxplot(data=df_melted, x=\"Kategori\", y=\"Värde\", hue=\"Kön\", palette=\"Set1\")\n",
    "plt.title(\"Skillnader i Kunskap (K), Attityd (A) och Beteende (B) mellan kön\")\n",
    "plt.ylabel(\"Medelvärde\")\n",
    "plt.xlabel(\"Kategori\")\n",
    "plt.legend(title=\"Kön\")\n",
    "plt.tight_layout()\n",
    "plt.show()"
   ]
  },
  {
   "cell_type": "code",
   "execution_count": 33,
   "metadata": {},
   "outputs": [
    {
     "name": "stdout",
     "output_type": "stream",
     "text": [
      "📊 Parat t-test – benägenhet att neka cookies\n",
      "  t = 2.026, p = 0.0454\n"
     ]
    }
   ],
   "source": [
    "from scipy.stats import ttest_rel\n",
    "\n",
    "# Exempel – byt till dina faktiska kolumnnamn!\n",
    "t_stat, p_value = ttest_rel(df_resp_sum['B_bilder_no_dark'], df_resp_sum['B_bilder_dark'])\n",
    "\n",
    "print(\"📊 Parat t-test – benägenhet att neka cookies\")\n",
    "print(f\"  t = {t_stat:.3f}, p = {p_value:.4f}\")\n"
   ]
  },
  {
   "cell_type": "code",
   "execution_count": 34,
   "metadata": {},
   "outputs": [
    {
     "name": "stderr",
     "output_type": "stream",
     "text": [
      "C:\\Users\\Stenh\\AppData\\Local\\Temp\\ipykernel_12300\\3881499562.py:7: FutureWarning: \n",
      "\n",
      "The `ci` parameter is deprecated. Use `errorbar='sd'` for the same effect.\n",
      "\n",
      "  sns.barplot(data=df_melted, x=\"Typ av notis\", y=\"Svar\", palette=\"Set2\", ci=\"sd\")\n",
      "C:\\Users\\Stenh\\AppData\\Local\\Temp\\ipykernel_12300\\3881499562.py:7: FutureWarning: \n",
      "\n",
      "Passing `palette` without assigning `hue` is deprecated and will be removed in v0.14.0. Assign the `x` variable to `hue` and set `legend=False` for the same effect.\n",
      "\n",
      "  sns.barplot(data=df_melted, x=\"Typ av notis\", y=\"Svar\", palette=\"Set2\", ci=\"sd\")\n"
     ]
    },
    {
     "data": {
      "image/png": "[encoded data removed]",
      "text/plain": [
       "<Figure size 800x600 with 1 Axes>"
      ]
     },
     "metadata": {},
     "output_type": "display_data"
    }
   ],
   "source": [
    "# Smält till lång format för seaborn\n",
    "df_melted = df_resp_sum.melt(value_vars=[\"B_bilder_dark\", \"B_bilder_no_dark\"],\n",
    "                           var_name=\"Typ av notis\", value_name=\"Svar\")\n",
    "\n",
    "# Rita barplot med medelvärden\n",
    "plt.figure(figsize=(8, 6))\n",
    "sns.barplot(data=df_melted, x=\"Typ av notis\", y=\"Svar\", palette=\"Set2\", ci=\"sd\")\n",
    "plt.title(\"Benägenhet att neka cookies\\nDark pattern vs. neutral notis\")\n",
    "plt.ylabel(\"Sannolikhet att neka cookies (1–7)\")\n",
    "plt.xlabel(\"Typ av notis\")\n",
    "plt.ylim(0, 7)\n",
    "plt.tight_layout()\n",
    "plt.show()"
   ]
  },
  {
   "cell_type": "code",
   "execution_count": 35,
   "metadata": {},
   "outputs": [
    {
     "name": "stdout",
     "output_type": "stream",
     "text": [
      "<class 'pandas.core.frame.DataFrame'>\n",
      "RangeIndex: 100 entries, 0 to 99\n",
      "Data columns (total 15 columns):\n",
      " #   Column              Non-Null Count  Dtype   \n",
      "---  ------              --------------  -----   \n",
      " 0   Kön                 100 non-null    category\n",
      " 1   Årskurs             100 non-null    category\n",
      " 2   Program             100 non-null    category\n",
      " 3   Invånare            100 non-null    category\n",
      " 4   K                   100 non-null    float64 \n",
      " 5   K_grundläggande     100 non-null    float64 \n",
      " 6   K_integritet        100 non-null    float64 \n",
      " 7   A                   100 non-null    float64 \n",
      " 8   A_egen_data         100 non-null    float64 \n",
      " 9   A_gen_insamling     100 non-null    float64 \n",
      " 10  B                   100 non-null    float64 \n",
      " 11  B_bilder_dark       100 non-null    float64 \n",
      " 12  B_bilder_no_dark    100 non-null    float64 \n",
      " 13  B2_agerande         100 non-null    float64 \n",
      " 14  B3_aktivt agerande  100 non-null    float64 \n",
      "dtypes: category(4), float64(11)\n",
      "memory usage: 9.8 KB\n"
     ]
    }
   ],
   "source": [
    "df_resp_sum.info()"
   ]
  },
  {
   "cell_type": "markdown",
   "metadata": {},
   "source": [
    "<h1>T-TEST KÖN<h1>"
   ]
  },
  {
   "cell_type": "code",
   "execution_count": 36,
   "metadata": {},
   "outputs": [
    {
     "name": "stdout",
     "output_type": "stream",
     "text": [
      "T-statistik: -2.552\n",
      "P-värde: 0.014\n"
     ]
    }
   ],
   "source": [
    "from scipy.stats import ttest_ind\n",
    "\n",
    "# Dela upp datan baserat på kön\n",
    "kvinnor = df_resp_sum[df_resp_sum[\"Kön\"] == \"Kvinna\"][\"K\"]\n",
    "män = df_resp_sum[df_resp_sum[\"Kön\"] == \"Man\"][\"K\"]\n",
    "\n",
    "# T-test (standard: equal_var=True antar lika varians)\n",
    "t_stat, p_val = ttest_ind(kvinnor, män, equal_var=False)  # Welch's t-test (säkrare)\n",
    "\n",
    "print(f\"T-statistik: {t_stat:.3f}\")\n",
    "print(f\"P-värde: {p_val:.3f}\")\n"
   ]
  },
  {
   "cell_type": "code",
   "execution_count": 37,
   "metadata": {},
   "outputs": [
    {
     "name": "stdout",
     "output_type": "stream",
     "text": [
      "T-statistik: 0.991\n",
      "P-värde: 0.326\n"
     ]
    }
   ],
   "source": [
    "from scipy.stats import ttest_ind\n",
    "\n",
    "# Dela upp datan baserat på kön\n",
    "kvinnor = df_resp_sum[df_resp_sum[\"Kön\"] == \"Kvinna\"][\"A\"]\n",
    "män = df_resp_sum[df_resp_sum[\"Kön\"] == \"Man\"][\"A\"]\n",
    "\n",
    "# T-test (standard: equal_var=True antar lika varians)\n",
    "t_stat, p_val = ttest_ind(kvinnor, män, equal_var=False)  # Welch's t-test (säkrare)\n",
    "\n",
    "print(f\"T-statistik: {t_stat:.3f}\")\n",
    "print(f\"P-värde: {p_val:.3f}\")"
   ]
  },
  {
   "cell_type": "code",
   "execution_count": 38,
   "metadata": {},
   "outputs": [
    {
     "name": "stdout",
     "output_type": "stream",
     "text": [
      "T-statistik: -2.384\n",
      "P-värde: 0.020\n"
     ]
    }
   ],
   "source": [
    "from scipy.stats import ttest_ind\n",
    "\n",
    "# Dela upp datan baserat på kön\n",
    "kvinnor = df_resp_sum[df_resp_sum[\"Kön\"] == \"Kvinna\"][\"B\"]\n",
    "män = df_resp_sum[df_resp_sum[\"Kön\"] == \"Man\"][\"B\"]\n",
    "\n",
    "# T-test (standard: equal_var=True antar lika varians)\n",
    "t_stat, p_val = ttest_ind(kvinnor, män, equal_var=False)  # Welch's t-test (säkrare)\n",
    "\n",
    "print(f\"T-statistik: {t_stat:.3f}\")\n",
    "print(f\"P-värde: {p_val:.3f}\")"
   ]
  },
  {
   "cell_type": "markdown",
   "metadata": {},
   "source": [
    "<h1>T-TEST ÅRSKURS<h1>"
   ]
  },
  {
   "cell_type": "code",
   "execution_count": 39,
   "metadata": {},
   "outputs": [
    {
     "data": {
      "text/html": [
       "<div>\n",
       "<style scoped>\n",
       "    .dataframe tbody tr th:only-of-type {\n",
       "        vertical-align: middle;\n",
       "    }\n",
       "\n",
       "    .dataframe tbody tr th {\n",
       "        vertical-align: top;\n",
       "    }\n",
       "\n",
       "    .dataframe thead th {\n",
       "        text-align: right;\n",
       "    }\n",
       "</style>\n",
       "<table border=\"1\" class=\"dataframe\">\n",
       "  <thead>\n",
       "    <tr style=\"text-align: right;\">\n",
       "      <th></th>\n",
       "      <th>Kön</th>\n",
       "      <th>Årskurs</th>\n",
       "      <th>Program</th>\n",
       "      <th>Invånare</th>\n",
       "      <th>K</th>\n",
       "      <th>K_grundläggande</th>\n",
       "      <th>K_integritet</th>\n",
       "      <th>A</th>\n",
       "      <th>A_egen_data</th>\n",
       "      <th>A_gen_insamling</th>\n",
       "      <th>B</th>\n",
       "      <th>B_bilder_dark</th>\n",
       "      <th>B_bilder_no_dark</th>\n",
       "      <th>B2_agerande</th>\n",
       "      <th>B3_aktivt agerande</th>\n",
       "    </tr>\n",
       "  </thead>\n",
       "  <tbody>\n",
       "    <tr>\n",
       "      <th>0</th>\n",
       "      <td>Man</td>\n",
       "      <td>Årskurs 3</td>\n",
       "      <td>Naturvetenskap</td>\n",
       "      <td>medel</td>\n",
       "      <td>3.25</td>\n",
       "      <td>1.833333</td>\n",
       "      <td>4.666667</td>\n",
       "      <td>5.500000</td>\n",
       "      <td>5.500</td>\n",
       "      <td>5.50</td>\n",
       "      <td>2.181818</td>\n",
       "      <td>1.000000</td>\n",
       "      <td>3.5</td>\n",
       "      <td>3.666667</td>\n",
       "      <td>1.0</td>\n",
       "    </tr>\n",
       "    <tr>\n",
       "      <th>1</th>\n",
       "      <td>Man</td>\n",
       "      <td>Årskurs 3</td>\n",
       "      <td>Samhällsvetenskap</td>\n",
       "      <td>medel</td>\n",
       "      <td>1.58</td>\n",
       "      <td>2.166667</td>\n",
       "      <td>1.000000</td>\n",
       "      <td>4.833333</td>\n",
       "      <td>4.625</td>\n",
       "      <td>5.25</td>\n",
       "      <td>1.545455</td>\n",
       "      <td>1.000000</td>\n",
       "      <td>2.0</td>\n",
       "      <td>2.333333</td>\n",
       "      <td>1.0</td>\n",
       "    </tr>\n",
       "    <tr>\n",
       "      <th>2</th>\n",
       "      <td>Kvinna</td>\n",
       "      <td>Årskurs 3</td>\n",
       "      <td>Naturvetenskap</td>\n",
       "      <td>liten</td>\n",
       "      <td>1.67</td>\n",
       "      <td>2.333333</td>\n",
       "      <td>1.000000</td>\n",
       "      <td>6.250000</td>\n",
       "      <td>6.000</td>\n",
       "      <td>6.75</td>\n",
       "      <td>1.363636</td>\n",
       "      <td>1.000000</td>\n",
       "      <td>1.0</td>\n",
       "      <td>2.333333</td>\n",
       "      <td>1.0</td>\n",
       "    </tr>\n",
       "    <tr>\n",
       "      <th>3</th>\n",
       "      <td>Kvinna</td>\n",
       "      <td>Årskurs 3</td>\n",
       "      <td>Samhällsvetenskap</td>\n",
       "      <td>liten</td>\n",
       "      <td>2.33</td>\n",
       "      <td>1.166667</td>\n",
       "      <td>3.500000</td>\n",
       "      <td>4.666667</td>\n",
       "      <td>4.375</td>\n",
       "      <td>5.25</td>\n",
       "      <td>1.000000</td>\n",
       "      <td>1.000000</td>\n",
       "      <td>1.0</td>\n",
       "      <td>1.000000</td>\n",
       "      <td>1.0</td>\n",
       "    </tr>\n",
       "    <tr>\n",
       "      <th>4</th>\n",
       "      <td>Kvinna</td>\n",
       "      <td>Årskurs 3</td>\n",
       "      <td>Naturvetenskap</td>\n",
       "      <td>liten</td>\n",
       "      <td>5.08</td>\n",
       "      <td>4.666667</td>\n",
       "      <td>5.500000</td>\n",
       "      <td>4.416667</td>\n",
       "      <td>4.250</td>\n",
       "      <td>4.75</td>\n",
       "      <td>2.727273</td>\n",
       "      <td>1.666667</td>\n",
       "      <td>2.0</td>\n",
       "      <td>4.000000</td>\n",
       "      <td>3.0</td>\n",
       "    </tr>\n",
       "  </tbody>\n",
       "</table>\n",
       "</div>"
      ],
      "text/plain": [
       "      Kön    Årskurs            Program Invånare     K  K_grundläggande  \\\n",
       "0     Man  Årskurs 3     Naturvetenskap    medel  3.25         1.833333   \n",
       "1     Man  Årskurs 3  Samhällsvetenskap    medel  1.58         2.166667   \n",
       "2  Kvinna  Årskurs 3     Naturvetenskap    liten  1.67         2.333333   \n",
       "3  Kvinna  Årskurs 3  Samhällsvetenskap    liten  2.33         1.166667   \n",
       "4  Kvinna  Årskurs 3     Naturvetenskap    liten  5.08         4.666667   \n",
       "\n",
       "   K_integritet         A  A_egen_data  A_gen_insamling         B  \\\n",
       "0      4.666667  5.500000        5.500             5.50  2.181818   \n",
       "1      1.000000  4.833333        4.625             5.25  1.545455   \n",
       "2      1.000000  6.250000        6.000             6.75  1.363636   \n",
       "3      3.500000  4.666667        4.375             5.25  1.000000   \n",
       "4      5.500000  4.416667        4.250             4.75  2.727273   \n",
       "\n",
       "   B_bilder_dark  B_bilder_no_dark  B2_agerande  B3_aktivt agerande  \n",
       "0       1.000000               3.5     3.666667                 1.0  \n",
       "1       1.000000               2.0     2.333333                 1.0  \n",
       "2       1.000000               1.0     2.333333                 1.0  \n",
       "3       1.000000               1.0     1.000000                 1.0  \n",
       "4       1.666667               2.0     4.000000                 3.0  "
      ]
     },
     "execution_count": 39,
     "metadata": {},
     "output_type": "execute_result"
    }
   ],
   "source": [
    "df_resp_sum.head()"
   ]
  },
  {
   "cell_type": "code",
   "execution_count": 40,
   "metadata": {},
   "outputs": [
    {
     "name": "stdout",
     "output_type": "stream",
     "text": [
      "T-statistik: 1.198\n",
      "P-värde: 0.239\n"
     ]
    }
   ],
   "source": [
    "from scipy.stats import ttest_ind\n",
    "\n",
    "# Filtrera ut elever i årskurs 1 och 2\n",
    "år1 = df_resp_sum[df_resp_sum[\"Årskurs\"] == \"Årskurs 1\"][\"K\"]\n",
    "år2 = df_resp_sum[df_resp_sum[\"Årskurs\"] == \"Årskurs 3\"][\"K\"]\n",
    "\n",
    "# T-test\n",
    "t_stat, p_val = ttest_ind(år1, år2, equal_var=False)  # Welch's t-test\n",
    "\n",
    "print(f\"T-statistik: {t_stat:.3f}\")\n",
    "print(f\"P-värde: {p_val:.3f}\")"
   ]
  },
  {
   "cell_type": "code",
   "execution_count": 41,
   "metadata": {},
   "outputs": [
    {
     "name": "stdout",
     "output_type": "stream",
     "text": [
      "T-statistik: -2.033\n",
      "P-värde: 0.049\n"
     ]
    }
   ],
   "source": [
    "from scipy.stats import ttest_ind\n",
    "\n",
    "# Filtrera ut elever i årskurs 1 och 2\n",
    "år1 = df_resp_sum[df_resp_sum[\"Årskurs\"] == \"Årskurs 1\"][\"A\"]\n",
    "år2 = df_resp_sum[df_resp_sum[\"Årskurs\"] == \"Årskurs 3\"][\"A\"]\n",
    "\n",
    "# T-test\n",
    "t_stat, p_val = ttest_ind(år1, år2, equal_var=False)  # Welch's t-test\n",
    "\n",
    "print(f\"T-statistik: {t_stat:.3f}\")\n",
    "print(f\"P-värde: {p_val:.3f}\")"
   ]
  },
  {
   "cell_type": "code",
   "execution_count": 42,
   "metadata": {},
   "outputs": [
    {
     "name": "stdout",
     "output_type": "stream",
     "text": [
      "T-statistik: -0.124\n",
      "P-värde: 0.902\n"
     ]
    }
   ],
   "source": [
    "from scipy.stats import ttest_ind\n",
    "\n",
    "# Filtrera ut elever i årskurs 1 och 2\n",
    "år1 = df_resp_sum[df_resp_sum[\"Årskurs\"] == \"Årskurs 1\"][\"B\"]\n",
    "år2 = df_resp_sum[df_resp_sum[\"Årskurs\"] == \"Årskurs 3\"][\"B\"]\n",
    "\n",
    "# T-test\n",
    "t_stat, p_val = ttest_ind(år1, år2, equal_var=False)  # Welch's t-test\n",
    "\n",
    "print(f\"T-statistik: {t_stat:.3f}\")\n",
    "print(f\"P-värde: {p_val:.3f}\")"
   ]
  },
  {
   "cell_type": "markdown",
   "metadata": {},
   "source": [
    "<h1>MEDELVÄRDE<h1>"
   ]
  },
  {
   "cell_type": "code",
   "execution_count": 49,
   "metadata": {},
   "outputs": [
    {
     "data": {
      "text/html": [
       "<div>\n",
       "<style scoped>\n",
       "    .dataframe tbody tr th:only-of-type {\n",
       "        vertical-align: middle;\n",
       "    }\n",
       "\n",
       "    .dataframe tbody tr th {\n",
       "        vertical-align: top;\n",
       "    }\n",
       "\n",
       "    .dataframe thead th {\n",
       "        text-align: right;\n",
       "    }\n",
       "</style>\n",
       "<table border=\"1\" class=\"dataframe\">\n",
       "  <thead>\n",
       "    <tr style=\"text-align: right;\">\n",
       "      <th></th>\n",
       "      <th>K</th>\n",
       "      <th>K_grundläggande</th>\n",
       "      <th>K_integritet</th>\n",
       "      <th>A</th>\n",
       "      <th>A_egen_data</th>\n",
       "      <th>A_gen_insamling</th>\n",
       "      <th>B</th>\n",
       "      <th>B_bilder_dark</th>\n",
       "      <th>B_bilder_no_dark</th>\n",
       "      <th>B2_agerande</th>\n",
       "      <th>B3_aktivt agerande</th>\n",
       "    </tr>\n",
       "  </thead>\n",
       "  <tbody>\n",
       "    <tr>\n",
       "      <th>0</th>\n",
       "      <td>3.789167</td>\n",
       "      <td>3.606667</td>\n",
       "      <td>3.971667</td>\n",
       "      <td>4.285</td>\n",
       "      <td>4.16875</td>\n",
       "      <td>4.5175</td>\n",
       "      <td>2.447273</td>\n",
       "      <td>1.993333</td>\n",
       "      <td>2.24</td>\n",
       "      <td>2.99</td>\n",
       "      <td>2.496667</td>\n",
       "    </tr>\n",
       "  </tbody>\n",
       "</table>\n",
       "</div>"
      ],
      "text/plain": [
       "          K  K_grundläggande  K_integritet      A  A_egen_data  \\\n",
       "0  3.789167         3.606667      3.971667  4.285      4.16875   \n",
       "\n",
       "   A_gen_insamling         B  B_bilder_dark  B_bilder_no_dark  B2_agerande  \\\n",
       "0           4.5175  2.447273       1.993333              2.24         2.99   \n",
       "\n",
       "   B3_aktivt agerande  \n",
       "0            2.496667  "
      ]
     },
     "execution_count": 49,
     "metadata": {},
     "output_type": "execute_result"
    }
   ],
   "source": [
    "df_kategoriserad"
   ]
  },
  {
   "cell_type": "code",
   "execution_count": 44,
   "metadata": {},
   "outputs": [
    {
     "name": "stdout",
     "output_type": "stream",
     "text": [
      "           K - Kvinna   K - Man  K - Vill ej ange\n",
      "Årskurs                                          \n",
      "Årskurs 1    3.250556  4.071864               NaN\n",
      "Årskurs 2         NaN       NaN              5.58\n",
      "Årskurs 3    2.977143  4.113750               NaN\n"
     ]
    },
    {
     "name": "stderr",
     "output_type": "stream",
     "text": [
      "C:\\Users\\Stenh\\AppData\\Local\\Temp\\ipykernel_12300\\1890733522.py:2: FutureWarning: The default of observed=False is deprecated and will be changed to True in a future version of pandas. Pass observed=False to retain current behavior or observed=True to adopt the future default and silence this warning.\n",
      "  medel_per_årskurs_kön = df_resp_sum.groupby(['Årskurs', 'Kön'])[['K']].mean()\n"
     ]
    }
   ],
   "source": [
    "# Gruppera först som vanligt\n",
    "medel_per_årskurs_kön = df_resp_sum.groupby(['Årskurs', 'Kön'])[['K']].mean()\n",
    "\n",
    "# Gör om kön till kolumner\n",
    "tabell_K = medel_per_årskurs_kön.unstack('Kön')\n",
    "\n",
    "# Platta kolumnindex för tydlighet\n",
    "tabell_K.columns = [f\"{col[0]} - {col[1]}\" for col in tabell_K.columns]\n",
    "\n",
    "# Visa tabellen\n",
    "print(tabell_K)"
   ]
  },
  {
   "cell_type": "code",
   "execution_count": 53,
   "metadata": {},
   "outputs": [
    {
     "name": "stdout",
     "output_type": "stream",
     "text": [
      "Jag har god kunskap om cookies.                                                         2.98\n",
      "Jag känner till vad cookies används till.                                               3.58\n",
      "Jag vet skillnaden mellan nödvändiga och icke-nödvändiga cookies.                       2.86\n",
      "Jag vet att det går att anpassa eller neka cookies när jag besöker en ny webbplats.     4.63\n",
      "Jag känner till att cookies används för grundläggande funktioner på en hemsida.         3.69\n",
      "Jag känner till att cookies används för öka användarupplevelsen på en hemsida.          3.90\n",
      "dtype: float64\n",
      "Jag känner till att cookies kan lagra personliga uppgifter som jag lämnat på en webbplats.                            4.19\n",
      "Jag vet att cookies kan användas för att samla in information om mitt beteende online.                                4.17\n",
      "Jag är medveten om att cookies kan användas för att bygga en profil av mig som internetanvändare.                     4.04\n",
      "Jag känner till att cookies kan fortsätta spåra mitt beteende när jag besöker andra hemsidor.                         3.61\n",
      "Jag vet att cookies kan påverka hur mycket reklam jag ser och vilken typ av reklam jag får.                           4.24\n",
      "Jag känner till att cookies som innehåller personlig information om mig och kan säljas vidare till andra företag.     3.58\n",
      "dtype: float64\n"
     ]
    }
   ],
   "source": [
    "\n",
    "\n",
    "print(utvalda_k1.mean(numeric_only=True))\n",
    "print(utvalda_k2.mean(numeric_only=True))"
   ]
  },
  {
   "cell_type": "code",
   "execution_count": 45,
   "metadata": {},
   "outputs": [
    {
     "name": "stdout",
     "output_type": "stream",
     "text": [
      "           A - Kvinna   A - Man  A - Vill ej ange\n",
      "Årskurs                                          \n",
      "Årskurs 1    4.375000  4.064972               NaN\n",
      "Årskurs 2         NaN       NaN          4.166667\n",
      "Årskurs 3    4.654762  5.072917               NaN\n"
     ]
    },
    {
     "name": "stderr",
     "output_type": "stream",
     "text": [
      "C:\\Users\\Stenh\\AppData\\Local\\Temp\\ipykernel_12300\\1293533543.py:2: FutureWarning: The default of observed=False is deprecated and will be changed to True in a future version of pandas. Pass observed=False to retain current behavior or observed=True to adopt the future default and silence this warning.\n",
      "  medel_per_årskurs_kön = df_resp_sum.groupby(['Årskurs', 'Kön'])[['A']].mean()\n"
     ]
    }
   ],
   "source": [
    "# Gruppera först som vanligt\n",
    "medel_per_årskurs_kön = df_resp_sum.groupby(['Årskurs', 'Kön'])[['A']].mean()\n",
    "\n",
    "# Gör om kön till kolumner\n",
    "tabell_A = medel_per_årskurs_kön.unstack('Kön')\n",
    "\n",
    "# Platta kolumnindex för tydlighet\n",
    "tabell_A.columns = [f\"{col[0]} - {col[1]}\" for col in tabell_A.columns]\n",
    "\n",
    "# Visa tabellen\n",
    "print(tabell_A)\n",
    "\n"
   ]
  },
  {
   "cell_type": "code",
   "execution_count": 46,
   "metadata": {},
   "outputs": [
    {
     "data": {
      "text/plain": [
       "Vilken årskurs går du i?\n",
       "Årskurs 1    77\n",
       "Årskurs 3    22\n",
       "Årskurs 2     1\n",
       "Name: count, dtype: int64"
      ]
     },
     "execution_count": 46,
     "metadata": {},
     "output_type": "execute_result"
    }
   ],
   "source": [
    "df[\"Vilken årskurs går du i?\"].value_counts()"
   ]
  },
  {
   "cell_type": "code",
   "execution_count": 47,
   "metadata": {},
   "outputs": [
    {
     "name": "stdout",
     "output_type": "stream",
     "text": [
      "                  B                       \n",
      "Kön          Kvinna       Man Vill ej ange\n",
      "Årskurs                                   \n",
      "Årskurs 1  1.984848  2.573190          NaN\n",
      "Årskurs 2       NaN       NaN     2.818182\n",
      "Årskurs 3  2.227273  2.897727          NaN\n"
     ]
    },
    {
     "name": "stderr",
     "output_type": "stream",
     "text": [
      "C:\\Users\\Stenh\\AppData\\Local\\Temp\\ipykernel_12300\\238364228.py:2: FutureWarning: The default of observed=False is deprecated and will be changed to True in a future version of pandas. Pass observed=False to retain current behavior or observed=True to adopt the future default and silence this warning.\n",
      "  medel_per_årskurs_kön = df_resp_sum.groupby(['Årskurs', 'Kön'])[['B']].mean()\n"
     ]
    }
   ],
   "source": [
    "# Gruppera först som vanligt\n",
    "medel_per_årskurs_kön = df_resp_sum.groupby(['Årskurs', 'Kön'])[['B']].mean()\n",
    "\n",
    "# Gör om kön till kolumner\n",
    "tabell_B = medel_per_årskurs_kön.unstack('Kön')\n",
    "\n",
    "# Platta kolumnindex för tydlighet\n",
    "tabell_A.columns = [f\"{col[0]} - {col[1]}\" for col in tabell_B.columns]\n",
    "\n",
    "# Visa tabellen\n",
    "print(tabell_B)"
   ]
  },
  {
   "cell_type": "code",
   "execution_count": 48,
   "metadata": {},
   "outputs": [
    {
     "data": {
      "text/html": [
       "<div>\n",
       "<style scoped>\n",
       "    .dataframe tbody tr th:only-of-type {\n",
       "        vertical-align: middle;\n",
       "    }\n",
       "\n",
       "    .dataframe tbody tr th {\n",
       "        vertical-align: top;\n",
       "    }\n",
       "\n",
       "    .dataframe thead th {\n",
       "        text-align: right;\n",
       "    }\n",
       "</style>\n",
       "<table border=\"1\" class=\"dataframe\">\n",
       "  <thead>\n",
       "    <tr style=\"text-align: right;\">\n",
       "      <th></th>\n",
       "      <th>Kön</th>\n",
       "      <th>Årskurs</th>\n",
       "      <th>Program</th>\n",
       "      <th>Invånare</th>\n",
       "      <th>K</th>\n",
       "      <th>K_grundläggande</th>\n",
       "      <th>K_integritet</th>\n",
       "      <th>A</th>\n",
       "      <th>A_egen_data</th>\n",
       "      <th>A_gen_insamling</th>\n",
       "      <th>B</th>\n",
       "      <th>B_bilder_dark</th>\n",
       "      <th>B_bilder_no_dark</th>\n",
       "      <th>B2_agerande</th>\n",
       "      <th>B3_aktivt agerande</th>\n",
       "    </tr>\n",
       "  </thead>\n",
       "  <tbody>\n",
       "    <tr>\n",
       "      <th>0</th>\n",
       "      <td>Man</td>\n",
       "      <td>Årskurs 3</td>\n",
       "      <td>Naturvetenskap</td>\n",
       "      <td>medel</td>\n",
       "      <td>3.25</td>\n",
       "      <td>1.833333</td>\n",
       "      <td>4.666667</td>\n",
       "      <td>5.500000</td>\n",
       "      <td>5.500</td>\n",
       "      <td>5.50</td>\n",
       "      <td>2.181818</td>\n",
       "      <td>1.000000</td>\n",
       "      <td>3.5</td>\n",
       "      <td>3.666667</td>\n",
       "      <td>1.0</td>\n",
       "    </tr>\n",
       "    <tr>\n",
       "      <th>1</th>\n",
       "      <td>Man</td>\n",
       "      <td>Årskurs 3</td>\n",
       "      <td>Samhällsvetenskap</td>\n",
       "      <td>medel</td>\n",
       "      <td>1.58</td>\n",
       "      <td>2.166667</td>\n",
       "      <td>1.000000</td>\n",
       "      <td>4.833333</td>\n",
       "      <td>4.625</td>\n",
       "      <td>5.25</td>\n",
       "      <td>1.545455</td>\n",
       "      <td>1.000000</td>\n",
       "      <td>2.0</td>\n",
       "      <td>2.333333</td>\n",
       "      <td>1.0</td>\n",
       "    </tr>\n",
       "    <tr>\n",
       "      <th>2</th>\n",
       "      <td>Kvinna</td>\n",
       "      <td>Årskurs 3</td>\n",
       "      <td>Naturvetenskap</td>\n",
       "      <td>liten</td>\n",
       "      <td>1.67</td>\n",
       "      <td>2.333333</td>\n",
       "      <td>1.000000</td>\n",
       "      <td>6.250000</td>\n",
       "      <td>6.000</td>\n",
       "      <td>6.75</td>\n",
       "      <td>1.363636</td>\n",
       "      <td>1.000000</td>\n",
       "      <td>1.0</td>\n",
       "      <td>2.333333</td>\n",
       "      <td>1.0</td>\n",
       "    </tr>\n",
       "    <tr>\n",
       "      <th>3</th>\n",
       "      <td>Kvinna</td>\n",
       "      <td>Årskurs 3</td>\n",
       "      <td>Samhällsvetenskap</td>\n",
       "      <td>liten</td>\n",
       "      <td>2.33</td>\n",
       "      <td>1.166667</td>\n",
       "      <td>3.500000</td>\n",
       "      <td>4.666667</td>\n",
       "      <td>4.375</td>\n",
       "      <td>5.25</td>\n",
       "      <td>1.000000</td>\n",
       "      <td>1.000000</td>\n",
       "      <td>1.0</td>\n",
       "      <td>1.000000</td>\n",
       "      <td>1.0</td>\n",
       "    </tr>\n",
       "    <tr>\n",
       "      <th>4</th>\n",
       "      <td>Kvinna</td>\n",
       "      <td>Årskurs 3</td>\n",
       "      <td>Naturvetenskap</td>\n",
       "      <td>liten</td>\n",
       "      <td>5.08</td>\n",
       "      <td>4.666667</td>\n",
       "      <td>5.500000</td>\n",
       "      <td>4.416667</td>\n",
       "      <td>4.250</td>\n",
       "      <td>4.75</td>\n",
       "      <td>2.727273</td>\n",
       "      <td>1.666667</td>\n",
       "      <td>2.0</td>\n",
       "      <td>4.000000</td>\n",
       "      <td>3.0</td>\n",
       "    </tr>\n",
       "  </tbody>\n",
       "</table>\n",
       "</div>"
      ],
      "text/plain": [
       "      Kön    Årskurs            Program Invånare     K  K_grundläggande  \\\n",
       "0     Man  Årskurs 3     Naturvetenskap    medel  3.25         1.833333   \n",
       "1     Man  Årskurs 3  Samhällsvetenskap    medel  1.58         2.166667   \n",
       "2  Kvinna  Årskurs 3     Naturvetenskap    liten  1.67         2.333333   \n",
       "3  Kvinna  Årskurs 3  Samhällsvetenskap    liten  2.33         1.166667   \n",
       "4  Kvinna  Årskurs 3     Naturvetenskap    liten  5.08         4.666667   \n",
       "\n",
       "   K_integritet         A  A_egen_data  A_gen_insamling         B  \\\n",
       "0      4.666667  5.500000        5.500             5.50  2.181818   \n",
       "1      1.000000  4.833333        4.625             5.25  1.545455   \n",
       "2      1.000000  6.250000        6.000             6.75  1.363636   \n",
       "3      3.500000  4.666667        4.375             5.25  1.000000   \n",
       "4      5.500000  4.416667        4.250             4.75  2.727273   \n",
       "\n",
       "   B_bilder_dark  B_bilder_no_dark  B2_agerande  B3_aktivt agerande  \n",
       "0       1.000000               3.5     3.666667                 1.0  \n",
       "1       1.000000               2.0     2.333333                 1.0  \n",
       "2       1.000000               1.0     2.333333                 1.0  \n",
       "3       1.000000               1.0     1.000000                 1.0  \n",
       "4       1.666667               2.0     4.000000                 3.0  "
      ]
     },
     "execution_count": 48,
     "metadata": {},
     "output_type": "execute_result"
    }
   ],
   "source": [
    "df_resp_sum.head()"
   ]
  }
 ],
 "metadata": {
  "kernelspec": {
   "display_name": "Python 3",
   "language": "python",
   "name": "python3"
  },
  "language_info": {
   "codemirror_mode": {
    "name": "ipython",
    "version": 3
   },
   "file_extension": ".py",
   "mimetype": "text/x-python",
   "name": "python",
   "nbconvert_exporter": "python",
   "pygments_lexer": "ipython3",
   "version": "3.13.3"
  }
 },
 "nbformat": 4,
 "nbformat_minor": 2
}
